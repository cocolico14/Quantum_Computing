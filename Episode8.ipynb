{
 "cells": [
  {
   "cell_type": "code",
   "execution_count": 1,
   "metadata": {},
   "outputs": [],
   "source": [
    "%matplotlib inline\n",
    "# Importing standard Qiskit libraries and configuring account\n",
    "from qiskit import QuantumCircuit, execute, Aer, IBMQ\n",
    "from qiskit.compiler import transpile, assemble\n",
    "from qiskit.tools.jupyter import *\n",
    "from qiskit.visualization import *\n",
    "# Loading your IBM Q account(s)\n",
    "provider = IBMQ.load_account()\n",
    "# Load Simulator Backend\n",
    "backend = Aer.get_backend('statevector_simulator')"
   ]
  },
  {
   "cell_type": "markdown",
   "metadata": {},
   "source": [
    "# Microsoft Q# Coding Contest - Summer 2018 - Warmup Round June 29 - July 2, 2018"
   ]
  },
  {
   "cell_type": "markdown",
   "metadata": {},
   "source": [
    "## G. Oracle for f(x) = k-th element of x\n",
    "Implement a quantum oracle on $N$ qubits which implements a function $f(x) = x_k$, i.e. the value of the function is the value of the k-th qubit.<br>\n",
    "\n",
    "You have to implement an operation which takes the following inputs:\n",
    " - an array of qubits x (input register), <br>\n",
    " - a qubit y (output qubit), <br>\n",
    " - 0-based index of the qubit from input register k (0 ≤ k < Length(x)). <br>\n",
    "\n",
    "The operation doesn’t have an output; the “output” of your solution is the state in which it left the qubits."
   ]
  },
  {
   "cell_type": "code",
   "execution_count": 4,
   "metadata": {},
   "outputs": [],
   "source": [
    "def solution7(circuit, k):\n",
    "    circuit.cx(k, circuit.num_qubits-1)\n",
    "    return circuit"
   ]
  },
  {
   "cell_type": "code",
   "execution_count": 6,
   "metadata": {
    "scrolled": true
   },
   "outputs": [
    {
     "data": {
      "image/png": "[encoded data removed]",
      "text/plain": [
       "<Figure size 504x360 with 1 Axes>"
      ]
     },
     "execution_count": 6,
     "metadata": {},
     "output_type": "execute_result"
    }
   ],
   "source": [
    "circ = QuantumCircuit(8)\n",
    "circ.x(3)\n",
    "circ = solution7(circ, 3)\n",
    "result = execute(circ, backend).result()\n",
    "counts = result.get_counts()\n",
    "plot_histogram(counts)"
   ]
  },
  {
   "cell_type": "markdown",
   "metadata": {},
   "source": [
    "## H. Oracle for f(x) = parity of the number of 1s in x\n",
    "Implement a quantum oracle on $N$ qubits which implements the following function: $f(x) = \\sum_{i} x_i$ mod 2, i.e., the value of the function is 1 if x has odd number of 1s, and 0 otherwise.\n",
    "You have to implement an operation which takes the following inputs:\n",
    "\n",
    " - an array of qubits x (input register), <br>\n",
    " - a qubit y (output qubit). <br>\n",
    " \n",
    "The operation doesn’t have an output; the ”output” of your solution is the state in which it left the qubits."
   ]
  },
  {
   "cell_type": "code",
   "execution_count": 7,
   "metadata": {},
   "outputs": [],
   "source": [
    "def solution8(circuit):\n",
    "    for i in range(circuit.num_qubits-2):\n",
    "        circuit.cx(i, circuit.num_qubits-1)\n",
    "    return circuit"
   ]
  },
  {
   "cell_type": "code",
   "execution_count": 9,
   "metadata": {
    "scrolled": true
   },
   "outputs": [
    {
     "data": {
      "image/png": "[encoded data removed]",
      "text/plain": [
       "<Figure size 504x360 with 1 Axes>"
      ]
     },
     "execution_count": 9,
     "metadata": {},
     "output_type": "execute_result"
    }
   ],
   "source": [
    "circ = QuantumCircuit(8)\n",
    "circ.x(2)\n",
    "circ = solution8(circ)\n",
    "result = execute(circ, backend).result()\n",
    "counts = result.get_counts()\n",
    "plot_histogram(counts)"
   ]
  },
  {
   "cell_type": "markdown",
   "metadata": {},
   "source": [
    "## I. Deutsch-Jozsa algorithm\n",
    "You are given a quantum oracle - an operation on $N+1$ qubits which implements a function $f : \\{0, 1\\}^N → {0, 1}$. You are guaranteed that the function $f$ implemented by the oracle is either constant (returns 0 on all inputs or 1 on all inputs) or balanced (returns 0 on exactly one half of the input domain and 1 on the other half). <br>\n",
    "\n",
    "There are only two possible constant functions: $f(x) = 0$ and $f(x) = 1$. The functions implemented by oracles in the two previous problems ($f(x) = x_k$ and $f(x) = \\sum_{i} x_i$ mod 2) are examples of balanced functions. <br>\n",
    "\n",
    "Your task is to figure out whether the function given by the oracle is constant. Your code is allowed to call the given oracle only once. <br>\n",
    "\n",
    "You have to implement an operation which takes the following inputs:\n",
    "\n",
    " - an integer $N$ - the number of qubits in the oracle input,\n",
    " - an oracle $U_f$, is an operation which takes as input an array of qubits and an output qubit and has no output.\n",
    " \n",
    "The return of your operation is a Boolean value: true if the oracle implements a constant function and false otherwise."
   ]
  },
  {
   "cell_type": "code",
   "execution_count": 18,
   "metadata": {
    "scrolled": false
   },
   "outputs": [],
   "source": [
    "func = 'B'\n",
    "\n",
    "def classical_oracle(input_array):\n",
    "    if func == 'B':\n",
    "        N = len(input_array)-2\n",
    "        return '1' if int(input_array, base=2) == 2**(N-1) else '0'\n",
    "    else:\n",
    "        return '0'\n",
    "def quantum_oracle(circuit):\n",
    "    if func == 'B':\n",
    "        circuit.cx(circuit.num_qubits//2, circuit.num_qubits-1)\n",
    "    else:\n",
    "        pass\n",
    "    return circuit"
   ]
  },
  {
   "cell_type": "code",
   "execution_count": 16,
   "metadata": {},
   "outputs": [],
   "source": [
    "def solution9(N, oracle):\n",
    "    if oracle == 'classic':\n",
    "        count = {'0':0, '1':0}\n",
    "        for i in range(2**(N-1)+1):\n",
    "            binary = bin(i)\n",
    "            count[classical_oracle(binary)] += 1\n",
    "        return 0 if (count['0']==0 or count['1']==0) else 1\n",
    "    else:\n",
    "        circ = QuantumCircuit(N+1, N)\n",
    "        for i in range(circ.num_qubits-1):\n",
    "            circ.h(i)\n",
    "        circ.x(circ.num_qubits-1)\n",
    "        circ.h(circ.num_qubits-1)\n",
    "        circ = quantum_oracle(circ)\n",
    "        for i in range(circ.num_qubits-1):\n",
    "            circ.h(i)\n",
    "        for i in range(circ.num_qubits-1):\n",
    "            circ.measure(i, i)\n",
    "        return circ"
   ]
  },
  {
   "cell_type": "code",
   "execution_count": 15,
   "metadata": {},
   "outputs": [
    {
     "name": "stdout",
     "output_type": "stream",
     "text": [
      "0\n"
     ]
    }
   ],
   "source": [
    "output = solution9(8, 'classic')\n",
    "print(output)"
   ]
  },
  {
   "cell_type": "code",
   "execution_count": 19,
   "metadata": {
    "scrolled": true
   },
   "outputs": [
    {
     "data": {
      "image/png": "[encoded data removed]",
      "text/plain": [
       "<Figure size 504x360 with 1 Axes>"
      ]
     },
     "execution_count": 19,
     "metadata": {},
     "output_type": "execute_result"
    }
   ],
   "source": [
    "circ = solution9(8, 'quantum')\n",
    "result = execute(circ, backend).result()\n",
    "counts = result.get_counts()\n",
    "plot_histogram(counts)"
   ]
  },
  {
   "cell_type": "code",
   "execution_count": null,
   "metadata": {},
   "outputs": [],
   "source": []
  }
 ],
 "metadata": {
  "kernelspec": {
   "display_name": "Python 3",
   "language": "python",
   "name": "python3"
  },
  "language_info": {
   "codemirror_mode": {
    "name": "ipython",
    "version": 3
   },
   "file_extension": ".py",
   "mimetype": "text/x-python",
   "name": "python",
   "nbconvert_exporter": "python",
   "pygments_lexer": "ipython3",
   "version": "3.7.8"
  }
 },
 "nbformat": 4,
 "nbformat_minor": 4
}
