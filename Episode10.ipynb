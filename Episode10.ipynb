{
 "cells": [
  {
   "cell_type": "code",
   "execution_count": 2,
   "metadata": {},
   "outputs": [
    {
     "name": "stderr",
     "output_type": "stream",
     "text": [
      "ibmqfactory.load_account:WARNING:2020-07-31 14:25:47,173: Credentials are already in use. The existing account in the session will be replaced.\n"
     ]
    }
   ],
   "source": [
    "%matplotlib inline\n",
    "# Importing standard Qiskit libraries and configuring account\n",
    "from qiskit import QuantumCircuit, execute, Aer, IBMQ\n",
    "from qiskit.compiler import transpile, assemble\n",
    "from qiskit.tools.jupyter import *\n",
    "from qiskit.visualization import *\n",
    "import numpy as np\n",
    "# Loading your IBM Q account(s)\n",
    "provider = IBMQ.load_account()"
   ]
  },
  {
   "cell_type": "code",
   "execution_count": 3,
   "metadata": {},
   "outputs": [],
   "source": [
    "np.random.seed(47)\n",
    "def gen(p):\n",
    "    yield +1 if np.random.rand()<p else -1"
   ]
  },
  {
   "cell_type": "code",
   "execution_count": 4,
   "metadata": {},
   "outputs": [],
   "source": [
    "class Qubit:\n",
    "    \n",
    "    def __init__(self):\n",
    "        self.hidden_var = dict()\n",
    "        \n",
    "    def entangle(self, qubit):\n",
    "        Z = next(gen(0.5))\n",
    "        X = Z * next(gen(0.5))\n",
    "        W = (X+Z)//2 * next(gen(0.5))\n",
    "        self.hidden_var = {'Z':Z, 'X':X, 'W':W}\n",
    "        qubit.hidden_var = {k:-self.hidden_var[k] for k in self.hidden_var}\n",
    "        return self, qubit\n",
    "    \n",
    "    def measure(self, axis):\n",
    "        return self.hidden_var[axis]"
   ]
  },
  {
   "cell_type": "code",
   "execution_count": 5,
   "metadata": {},
   "outputs": [],
   "source": [
    "N = 10000\n",
    "qubits = [Qubit().entangle(Qubit()) for _ in range(N)]"
   ]
  },
  {
   "cell_type": "code",
   "execution_count": 6,
   "metadata": {
    "scrolled": true
   },
   "outputs": [
    {
     "name": "stdout",
     "output_type": "stream",
     "text": [
      "ZX:0.4952 ZW:0.2518 XW:0.2518\n"
     ]
    }
   ],
   "source": [
    "ZX = 0.0\n",
    "ZW = 0.0\n",
    "XW = 0.0\n",
    "for qubit1, qubit2 in qubits:\n",
    "    ZX += ((qubit1.measure('Z') == +1) and (qubit2.measure('X') == +1)) or \\\n",
    "          ((qubit1.measure('X') == +1) and (qubit2.measure('Z') == +1))\n",
    "    ZW += ((qubit1.measure('Z') == +1) and (qubit2.measure('W') == +1)) or \\\n",
    "          ((qubit1.measure('W') == +1) and (qubit2.measure('Z') == +1))\n",
    "    XW += ((qubit1.measure('X') == +1) and (qubit2.measure('W') == +1)) or \\\n",
    "          ((qubit1.measure('W') == +1) and (qubit2.measure('X') == +1))\n",
    "ZX /= N\n",
    "ZW /= N\n",
    "XW /= N\n",
    "print('ZX:{} ZW:{} XW:{}'.format(ZX, ZW, XW))"
   ]
  },
  {
   "cell_type": "code",
   "execution_count": 7,
   "metadata": {},
   "outputs": [
    {
     "data": {
      "text/plain": [
       "True"
      ]
     },
     "execution_count": 7,
     "metadata": {},
     "output_type": "execute_result"
    }
   ],
   "source": [
    "ZX <= ZW + XW"
   ]
  },
  {
   "cell_type": "code",
   "execution_count": 8,
   "metadata": {},
   "outputs": [
    {
     "name": "stdout",
     "output_type": "stream",
     "text": [
      "ZX:0.5 ZW:0.14644660940672627 XW:0.14644660940672627\n"
     ]
    }
   ],
   "source": [
    "ZX = 1 - (1+np.cos(np.pi/2))/2\n",
    "ZW = 1 - (1+np.cos(np.pi/4))/2\n",
    "XW = 1 - (1+np.cos(np.pi/4))/2\n",
    "print('ZX:{} ZW:{} XW:{}'.format(ZX, ZW, XW))"
   ]
  },
  {
   "cell_type": "code",
   "execution_count": 9,
   "metadata": {},
   "outputs": [
    {
     "data": {
      "text/plain": [
       "False"
      ]
     },
     "execution_count": 9,
     "metadata": {},
     "output_type": "execute_result"
    }
   ],
   "source": [
    "ZX <= ZW + XW"
   ]
  },
  {
   "cell_type": "code",
   "execution_count": null,
   "metadata": {},
   "outputs": [],
   "source": []
  }
 ],
 "metadata": {
  "kernelspec": {
   "display_name": "Python 3",
   "language": "python",
   "name": "python3"
  },
  "language_info": {
   "codemirror_mode": {
    "name": "ipython",
    "version": 3
   },
   "file_extension": ".py",
   "mimetype": "text/x-python",
   "name": "python",
   "nbconvert_exporter": "python",
   "pygments_lexer": "ipython3",
   "version": "3.7.8"
  }
 },
 "nbformat": 4,
 "nbformat_minor": 4
}
